{
 "cells": [
  {
   "cell_type": "markdown",
   "id": "148a1bb5-e593-4eed-ab39-50c2a5866792",
   "metadata": {
    "tags": []
   },
   "source": [
    "# Import Library"
   ]
  },
  {
   "cell_type": "code",
   "execution_count": 1,
   "id": "75b077d6-de75-4dcd-8a26-c04bda3bc313",
   "metadata": {},
   "outputs": [
    {
     "name": "stderr",
     "output_type": "stream",
     "text": [
      "/opt/conda/lib/python3.9/site-packages/pandas/core/computation/expressions.py:21: UserWarning: Pandas requires version '2.8.4' or newer of 'numexpr' (version '2.8.0' currently installed).\n",
      "  from pandas.core.computation.check import NUMEXPR_INSTALLED\n",
      "/opt/conda/lib/python3.9/site-packages/pandas/core/arrays/masked.py:60: UserWarning: Pandas requires version '1.3.6' or newer of 'bottleneck' (version '1.3.2' currently installed).\n",
      "  from pandas.core import (\n",
      "/opt/conda/lib/python3.9/site-packages/scipy/__init__.py:146: UserWarning: A NumPy version >=1.16.5 and <1.23.0 is required for this version of SciPy (detected version 1.26.4\n",
      "  warnings.warn(f\"A NumPy version >={np_minversion} and <{np_maxversion}\"\n",
      "2024-12-19 02:55:54.136002: I external/local_xla/xla/tsl/cuda/cudart_stub.cc:32] Could not find cuda drivers on your machine, GPU will not be used.\n",
      "2024-12-19 02:55:54.143396: I external/local_xla/xla/tsl/cuda/cudart_stub.cc:32] Could not find cuda drivers on your machine, GPU will not be used.\n",
      "2024-12-19 02:55:54.173970: E external/local_xla/xla/stream_executor/cuda/cuda_fft.cc:477] Unable to register cuFFT factory: Attempting to register factory for plugin cuFFT when one has already been registered\n",
      "WARNING: All log messages before absl::InitializeLog() is called are written to STDERR\n",
      "E0000 00:00:1734576954.227478   49703 cuda_dnn.cc:8310] Unable to register cuDNN factory: Attempting to register factory for plugin cuDNN when one has already been registered\n",
      "E0000 00:00:1734576954.243888   49703 cuda_blas.cc:1418] Unable to register cuBLAS factory: Attempting to register factory for plugin cuBLAS when one has already been registered\n",
      "2024-12-19 02:55:54.288277: I tensorflow/core/platform/cpu_feature_guard.cc:210] This TensorFlow binary is optimized to use available CPU instructions in performance-critical operations.\n",
      "To enable the following instructions: AVX2 AVX512F FMA, in other operations, rebuild TensorFlow with the appropriate compiler flags.\n"
     ]
    }
   ],
   "source": [
    "import pandas as pd\n",
    "import numpy as np\n",
    "from sklearn.cluster import KMeans\n",
    "from sklearn.metrics import silhouette_score\n",
    "from sklearn.preprocessing import StandardScaler\n",
    "import matplotlib.pyplot as plt\n",
    "from mpl_toolkits.mplot3d import Axes3D\n",
    "import seaborn as sns\n",
    "from sklearn.model_selection import KFold, train_test_split\n",
    "from tensorflow import keras\n",
    "from tensorflow.keras import layers\n",
    "from sklearn.metrics import mean_squared_error, r2_score\n",
    "from sklearn.ensemble import VotingRegressor\n",
    "from sklearn.linear_model import LinearRegression\n",
    "from sklearn.tree import DecisionTreeRegressor\n",
    "from keras.layers import Input\n",
    "from sklearn.model_selection import train_test_split, GridSearchCV, KFold\n",
    "from sklearn.neural_network import MLPRegressor\n",
    "from tqdm import tqdm\n",
    "import joblib\n",
    "\n",
    "from sklearn.ensemble import RandomForestRegressor, GradientBoostingRegressor, VotingRegressor\n",
    "from sklearn.linear_model import LinearRegression, Ridge, Lasso"
   ]
  },
  {
   "cell_type": "code",
   "execution_count": 2,
   "id": "72240529-1fdf-42f4-aafc-85d23e88dbb5",
   "metadata": {},
   "outputs": [],
   "source": [
    "def load_any_tab_wave(file_path,features_columns):\n",
    "    \"\"\"\n",
    "    Upload any file from any wave, verifying that the characteristics relating to social isolation are present\n",
    "    Args:\n",
    "        file_path: The path to the .tab file.\n",
    "    Raises:\n",
    "        ValueError: If none of the specified columns exist in the file.\n",
    "    \"\"\"\n",
    "    try:\n",
    "        df = pd.read_csv(file_path, sep='\\t', index_col='idauniq', low_memory=False)\n",
    "    except KeyError:\n",
    "        try:\n",
    "          df = pd.read_csv(file_path, sep='\\t')\n",
    "        except pd.errors.EmptyDataError:\n",
    "          print(f\"Error: The file '{file_path}' is empty.\")\n",
    "          return None\n",
    "        except pd.errors.ParserError:\n",
    "          print(f\"Error: Could not parse the file '{file_path}'. Check the file format.\")\n",
    "          return None\n",
    "    except FileNotFoundError:\n",
    "      print(f\"Error: The file '{file_path}' was not found.\")\n",
    "      return None\n",
    "    except pd.errors.EmptyDataError:\n",
    "        print(f\"Error: The file '{file_path}' is empty.\")\n",
    "        return None\n",
    "    except pd.errors.ParserError:\n",
    "        print(f\"Error: Could not parse the file '{file_path}'. Check the file format.\")\n",
    "        return None\n",
    "\n",
    "    existing_cols = set(df.columns)\n",
    "    selected_cols = list(existing_cols.intersection(features_columns))\n",
    "\n",
    "    if not selected_cols:\n",
    "      raise ValueError(\"Error: None of the columns were found in the file.\")\n",
    "\n",
    "    df = df[selected_cols].copy()\n",
    "    return df"
   ]
  },
  {
   "cell_type": "code",
   "execution_count": 3,
   "id": "e054126e-8fc5-4c2c-83a4-f03b590e138f",
   "metadata": {},
   "outputs": [],
   "source": [
    "def level_isolation(df):\n",
    "    \"\"\"\n",
    "    Scores ranged from 0 to 5, with higher scores indicating greater social isolation.\n",
    "    \"\"\"\n",
    "    def sum_isolation(row):\n",
    "        resultado = 0\n",
    "        \n",
    "        # unmarried/not cohabiting\n",
    "        if row['scprt'] == 2:\n",
    "            resultado += 1\n",
    "          \n",
    "        # had less than monthly contact (including face-to-face, telephone, or written/e-mail contact) with children\n",
    "        if not any(1 <= row[col] <= 3 for col in ['scchdg', 'scchdh', 'scchdj', 'scchdk']):\n",
    "            resultado += 1\n",
    "        \n",
    "        # had less than monthly contact (including face-to-face, telephone, or written/e-mail contact) with other inmediate family\n",
    "        if not any(1 <= row[col] <= 3 for col in ['scfamg','scfamh','scfamj','scfamk']):\n",
    "            resultado += 1\n",
    "        \n",
    "        # had less than monthly contact (including face-to-face, telephone, or written/e-mail contact) with friend\n",
    "        if not any(1 <= row[col] <= 3 for col in ['scfrdg','scfrdh','scfrdj','scfrdk']):\n",
    "            resultado += 1\n",
    "        \n",
    "        # not participate in organisations such as social clubs or residents groups, religious groups or committees\n",
    "        if row['scorg96'] == 1:\n",
    "            resultado += 1\n",
    "        \n",
    "        return resultado\n",
    "\n",
    "    df['level_social_isolation'] = df.apply(sum_isolation, axis=1)\n",
    "    \n",
    "    return df"
   ]
  },
  {
   "cell_type": "code",
   "execution_count": 4,
   "id": "1f7b06df-a661-42ff-9521-7e6fcd6be4c6",
   "metadata": {},
   "outputs": [],
   "source": [
    "\"\"\"\n",
    "Characteristics that influence the level of social isolation:\n",
    "\n",
    "sleep: 'pscedc','sctwuh','sctwum','sctsyh','sctsym','sctwup','sctsyp'\n",
    "\n",
    "physical activity: 'heacta','heactb','heactc'\n",
    "\n",
    "health: 'hehelf','heill','helim','helwk','hetemp'\n",
    "\n",
    "difficulty walking : 'hefunc'\n",
    "\n",
    "eyesight : 'heeye','hefrnd','hepap'\n",
    "\n",
    "hearing: 'hehear'\n",
    "\n",
    "weight: 'heswgh','heswgha'\n",
    "\n",
    "social participation: 'spcar','spcara','sptraa'\n",
    "partner interaction: 'scprt'\n",
    "children interaction: 'scchd','scchdg','scchdh','scchdj','scchdk'\n",
    "other family interaction: 'scfam','scfamf','scfamx','scfamg','scfamh','scfamj','scfamk'\n",
    "friend interaction: 'scfrd','scfrdg','scfrdh','scfrdj','scfrdk'\n",
    "sgroup:'scorgpo','scorgnw','scorgrl','scorgch','scorged','scorgsc','scorgsp','scorg95','scorg96'\n",
    "\n",
    "\"\"\"\n",
    "features_columns = ['pscedc','sctwuh','sctwum','sctsyh','sctsym','sctwup','sctsyp','heacta','heactb','heactc','hehelf','heill','helim','helwk','hetemp','hefunc','heeye','hefrnd','hepap','hehear','heswgh','heswgha','spcar','spcara','sptraa','scprt','scchd','scchdg','scchdh','scchdj','scchdk','scfam','scfamf','scfamx','scfamg','scfamh','scfamj','scfamk','scfrd','scfrdg','scfrdh','scfrdj','scfrdk','scorgpo','scorgnw','scorgrl','scorgch','scorged','scorgsc','scorgsp','scorg95','scorg96']"
   ]
  },
  {
   "cell_type": "code",
   "execution_count": 5,
   "id": "8808cf06-4781-41c7-b4a0-46c70ea75beb",
   "metadata": {},
   "outputs": [],
   "source": [
    "data_isolation=load_any_tab_wave(\"data/dataset/wave_10_elsa_data_eul_v4.tab\",features_columns)"
   ]
  },
  {
   "cell_type": "code",
   "execution_count": 6,
   "id": "40e75dff-bd86-4226-83a0-6f56996aea5e",
   "metadata": {},
   "outputs": [
    {
     "name": "stdout",
     "output_type": "stream",
     "text": [
      "<class 'pandas.core.frame.DataFrame'>\n",
      "Index: 7589 entries, 100012 to 949857\n",
      "Data columns (total 52 columns):\n",
      " #   Column   Non-Null Count  Dtype \n",
      "---  ------   --------------  ----- \n",
      " 0   heactc   7589 non-null   int64 \n",
      " 1   scchdh   7589 non-null   int64 \n",
      " 2   scchd    7589 non-null   int64 \n",
      " 3   scfamx   7589 non-null   int64 \n",
      " 4   hefunc   7589 non-null   int64 \n",
      " 5   scfamh   7589 non-null   int64 \n",
      " 6   scfrdh   7589 non-null   int64 \n",
      " 7   scfrdj   7589 non-null   int64 \n",
      " 8   scorged  7589 non-null   int64 \n",
      " 9   scorgsp  7589 non-null   int64 \n",
      " 10  scfamk   7589 non-null   int64 \n",
      " 11  heill    7589 non-null   int64 \n",
      " 12  hepap    7589 non-null   int64 \n",
      " 13  scchdk   7589 non-null   int64 \n",
      " 14  sctwup   7589 non-null   object\n",
      " 15  scfam    7589 non-null   int64 \n",
      " 16  scfamg   7589 non-null   int64 \n",
      " 17  spcara   7589 non-null   int64 \n",
      " 18  sctwuh   7589 non-null   int64 \n",
      " 19  scfrdg   7589 non-null   int64 \n",
      " 20  hehelf   7589 non-null   int64 \n",
      " 21  heswgh   7589 non-null   int64 \n",
      " 22  scfamf   7589 non-null   int64 \n",
      " 23  scfamj   7589 non-null   int64 \n",
      " 24  sptraa   7589 non-null   int64 \n",
      " 25  heactb   7589 non-null   int64 \n",
      " 26  scorgpo  7589 non-null   int64 \n",
      " 27  hefrnd   7589 non-null   int64 \n",
      " 28  helwk    7589 non-null   int64 \n",
      " 29  scorg95  7589 non-null   int64 \n",
      " 30  sctsym   7589 non-null   int64 \n",
      " 31  helim    7589 non-null   int64 \n",
      " 32  heeye    7589 non-null   int64 \n",
      " 33  scchdg   7589 non-null   int64 \n",
      " 34  scorgrl  7589 non-null   int64 \n",
      " 35  scorgnw  7589 non-null   int64 \n",
      " 36  pscedc   7589 non-null   int64 \n",
      " 37  scfrdk   7589 non-null   int64 \n",
      " 38  scfrd    7589 non-null   int64 \n",
      " 39  hetemp   7589 non-null   int64 \n",
      " 40  sctsyh   7589 non-null   int64 \n",
      " 41  hehear   7589 non-null   int64 \n",
      " 42  heswgha  7589 non-null   int64 \n",
      " 43  scorgch  7589 non-null   int64 \n",
      " 44  heacta   7589 non-null   int64 \n",
      " 45  scprt    7589 non-null   int64 \n",
      " 46  spcar    7589 non-null   int64 \n",
      " 47  sctsyp   7589 non-null   object\n",
      " 48  sctwum   7589 non-null   int64 \n",
      " 49  scchdj   7589 non-null   int64 \n",
      " 50  scorg96  7589 non-null   int64 \n",
      " 51  scorgsc  7589 non-null   int64 \n",
      "dtypes: int64(50), object(2)\n",
      "memory usage: 3.1+ MB\n"
     ]
    }
   ],
   "source": [
    "data_isolation.info()"
   ]
  },
  {
   "cell_type": "markdown",
   "id": "eef42606-2842-4232-8bd5-0cc8b6bf714b",
   "metadata": {
    "tags": []
   },
   "source": [
    "# Sleep quality"
   ]
  },
  {
   "cell_type": "code",
   "execution_count": 7,
   "id": "ec351d4d-a9c3-46a9-ab95-e65af0cae6f9",
   "metadata": {},
   "outputs": [],
   "source": [
    "def to_datetime(df,sctwuh,sctwum,sctsyh,sctsym,sctwup,sctsyp):\n",
    "  \"\"\"\n",
    "    Change the colums(hour+minute) to datatime\n",
    "    Args:\n",
    "        df: dataframe\n",
    "        sctwuh,sctwum,sctsyh,sctsym,sctwup,sctsyp: columns that contains the information they all answered persons\n",
    "    Raises:\n",
    "        ValueError: If none of the specified columns exist in the file.\n",
    "  \"\"\"\n",
    "  try:  \n",
    "    sleep = ['sctwuh','sctwum','sctsyh','sctsym']\n",
    "    df[sleep] = df[sleep].clip(lower=0)\n",
    "    df.loc[df['sctwup'] == 'PM', 'sctwuh'] += 12\n",
    "    df.loc[df['sctsyp'] == 'PM', 'sctsyh'] += 12\n",
    "    df.loc[df['sctsyh'] == 12, 'sctsyh'] = 0\n",
    "    df['hsleep']=df['sctwuh'] + df['sctwum']/60 - df['sctsyh'] - df['sctsym']/60\n",
    "    df.loc[df['hsleep'] < 0, 'hsleep'] += 24\n",
    "    df = df[df['hsleep'] <= 13].copy()\n",
    "    \n",
    "    return df\n",
    "  except (KeyError, TypeError) as e:\n",
    "    print(f\"An error occurred: {e}\")\n",
    "    return df"
   ]
  },
  {
   "cell_type": "code",
   "execution_count": 8,
   "id": "9b3b55c1-4d0b-4a9b-bcc8-15ed0a1e4cc5",
   "metadata": {},
   "outputs": [],
   "source": [
    "def group_sleep(row): \n",
    "  \"\"\"\n",
    "    Hours sleep was further categorized into three groups: \n",
    "        -3: hours<6\n",
    "        -2: 6<=hours<=8\n",
    "        -1: hours>8\n",
    "  \"\"\"    \n",
    "  if row['hsleep'] < 6:\n",
    "    return 3\n",
    "  elif row['hsleep'] > 8:\n",
    "    return 1\n",
    "  else:\n",
    "    return 2"
   ]
  },
  {
   "cell_type": "code",
   "execution_count": 9,
   "id": "4f9d03ff-f6da-4274-b957-03b108761ef9",
   "metadata": {},
   "outputs": [],
   "source": [
    "data_isolation=to_datetime(data_isolation,'sctwuh','sctwum','sctsyh','sctsym','sctwup','sctsyp')"
   ]
  },
  {
   "cell_type": "code",
   "execution_count": 10,
   "id": "425100a4-99e5-44b7-840d-8c56f35e1fc5",
   "metadata": {},
   "outputs": [],
   "source": [
    "data_isolation['gsleep'] = data_isolation.apply(group_sleep, axis=1).copy()"
   ]
  },
  {
   "cell_type": "code",
   "execution_count": 11,
   "id": "a3eac557-b474-4c95-ac60-bdb1e1ffc054",
   "metadata": {},
   "outputs": [
    {
     "data": {
      "text/html": [
       "<div>\n",
       "<style scoped>\n",
       "    .dataframe tbody tr th:only-of-type {\n",
       "        vertical-align: middle;\n",
       "    }\n",
       "\n",
       "    .dataframe tbody tr th {\n",
       "        vertical-align: top;\n",
       "    }\n",
       "\n",
       "    .dataframe thead th {\n",
       "        text-align: right;\n",
       "    }\n",
       "</style>\n",
       "<table border=\"1\" class=\"dataframe\">\n",
       "  <thead>\n",
       "    <tr style=\"text-align: right;\">\n",
       "      <th></th>\n",
       "      <th>heactc</th>\n",
       "      <th>scchdh</th>\n",
       "      <th>scchd</th>\n",
       "      <th>scfamx</th>\n",
       "      <th>hefunc</th>\n",
       "      <th>scfamh</th>\n",
       "      <th>scfrdh</th>\n",
       "      <th>scfrdj</th>\n",
       "      <th>scorged</th>\n",
       "      <th>scorgsp</th>\n",
       "      <th>...</th>\n",
       "      <th>heacta</th>\n",
       "      <th>scprt</th>\n",
       "      <th>spcar</th>\n",
       "      <th>sctsyp</th>\n",
       "      <th>sctwum</th>\n",
       "      <th>scchdj</th>\n",
       "      <th>scorg96</th>\n",
       "      <th>scorgsc</th>\n",
       "      <th>hsleep</th>\n",
       "      <th>gsleep</th>\n",
       "    </tr>\n",
       "    <tr>\n",
       "      <th>idauniq</th>\n",
       "      <th></th>\n",
       "      <th></th>\n",
       "      <th></th>\n",
       "      <th></th>\n",
       "      <th></th>\n",
       "      <th></th>\n",
       "      <th></th>\n",
       "      <th></th>\n",
       "      <th></th>\n",
       "      <th></th>\n",
       "      <th></th>\n",
       "      <th></th>\n",
       "      <th></th>\n",
       "      <th></th>\n",
       "      <th></th>\n",
       "      <th></th>\n",
       "      <th></th>\n",
       "      <th></th>\n",
       "      <th></th>\n",
       "      <th></th>\n",
       "      <th></th>\n",
       "    </tr>\n",
       "  </thead>\n",
       "  <tbody>\n",
       "    <tr>\n",
       "      <th>100012</th>\n",
       "      <td>1</td>\n",
       "      <td>3</td>\n",
       "      <td>1</td>\n",
       "      <td>4</td>\n",
       "      <td>1</td>\n",
       "      <td>4</td>\n",
       "      <td>4</td>\n",
       "      <td>3</td>\n",
       "      <td>0</td>\n",
       "      <td>0</td>\n",
       "      <td>...</td>\n",
       "      <td>1</td>\n",
       "      <td>1</td>\n",
       "      <td>1</td>\n",
       "      <td>PM</td>\n",
       "      <td>30</td>\n",
       "      <td>2</td>\n",
       "      <td>0</td>\n",
       "      <td>0</td>\n",
       "      <td>7.666667</td>\n",
       "      <td>2</td>\n",
       "    </tr>\n",
       "    <tr>\n",
       "      <th>100023</th>\n",
       "      <td>1</td>\n",
       "      <td>1</td>\n",
       "      <td>1</td>\n",
       "      <td>3</td>\n",
       "      <td>1</td>\n",
       "      <td>1</td>\n",
       "      <td>3</td>\n",
       "      <td>6</td>\n",
       "      <td>0</td>\n",
       "      <td>0</td>\n",
       "      <td>...</td>\n",
       "      <td>4</td>\n",
       "      <td>1</td>\n",
       "      <td>1</td>\n",
       "      <td>PM</td>\n",
       "      <td>30</td>\n",
       "      <td>6</td>\n",
       "      <td>1</td>\n",
       "      <td>0</td>\n",
       "      <td>10.000000</td>\n",
       "      <td>1</td>\n",
       "    </tr>\n",
       "    <tr>\n",
       "      <th>100025</th>\n",
       "      <td>1</td>\n",
       "      <td>-1</td>\n",
       "      <td>-1</td>\n",
       "      <td>-1</td>\n",
       "      <td>1</td>\n",
       "      <td>-1</td>\n",
       "      <td>-1</td>\n",
       "      <td>-1</td>\n",
       "      <td>-1</td>\n",
       "      <td>-1</td>\n",
       "      <td>...</td>\n",
       "      <td>2</td>\n",
       "      <td>-1</td>\n",
       "      <td>1</td>\n",
       "      <td></td>\n",
       "      <td>0</td>\n",
       "      <td>-1</td>\n",
       "      <td>-1</td>\n",
       "      <td>-1</td>\n",
       "      <td>0.000000</td>\n",
       "      <td>3</td>\n",
       "    </tr>\n",
       "    <tr>\n",
       "      <th>100026</th>\n",
       "      <td>4</td>\n",
       "      <td>-1</td>\n",
       "      <td>2</td>\n",
       "      <td>3</td>\n",
       "      <td>2</td>\n",
       "      <td>2</td>\n",
       "      <td>2</td>\n",
       "      <td>3</td>\n",
       "      <td>0</td>\n",
       "      <td>0</td>\n",
       "      <td>...</td>\n",
       "      <td>4</td>\n",
       "      <td>1</td>\n",
       "      <td>1</td>\n",
       "      <td>AM</td>\n",
       "      <td>30</td>\n",
       "      <td>-1</td>\n",
       "      <td>1</td>\n",
       "      <td>0</td>\n",
       "      <td>7.416667</td>\n",
       "      <td>2</td>\n",
       "    </tr>\n",
       "    <tr>\n",
       "      <th>100029</th>\n",
       "      <td>1</td>\n",
       "      <td>-1</td>\n",
       "      <td>-1</td>\n",
       "      <td>-1</td>\n",
       "      <td>3</td>\n",
       "      <td>-1</td>\n",
       "      <td>-1</td>\n",
       "      <td>-1</td>\n",
       "      <td>-1</td>\n",
       "      <td>-1</td>\n",
       "      <td>...</td>\n",
       "      <td>4</td>\n",
       "      <td>-1</td>\n",
       "      <td>1</td>\n",
       "      <td></td>\n",
       "      <td>0</td>\n",
       "      <td>-1</td>\n",
       "      <td>-1</td>\n",
       "      <td>-1</td>\n",
       "      <td>0.000000</td>\n",
       "      <td>3</td>\n",
       "    </tr>\n",
       "  </tbody>\n",
       "</table>\n",
       "<p>5 rows × 54 columns</p>\n",
       "</div>"
      ],
      "text/plain": [
       "         heactc  scchdh  scchd  scfamx  hefunc  scfamh  scfrdh  scfrdj  \\\n",
       "idauniq                                                                  \n",
       "100012        1       3      1       4       1       4       4       3   \n",
       "100023        1       1      1       3       1       1       3       6   \n",
       "100025        1      -1     -1      -1       1      -1      -1      -1   \n",
       "100026        4      -1      2       3       2       2       2       3   \n",
       "100029        1      -1     -1      -1       3      -1      -1      -1   \n",
       "\n",
       "         scorged  scorgsp  ...  heacta  scprt  spcar  sctsyp sctwum  scchdj  \\\n",
       "idauniq                    ...                                                \n",
       "100012         0        0  ...       1      1      1      PM     30       2   \n",
       "100023         0        0  ...       4      1      1      PM     30       6   \n",
       "100025        -1       -1  ...       2     -1      1              0      -1   \n",
       "100026         0        0  ...       4      1      1      AM     30      -1   \n",
       "100029        -1       -1  ...       4     -1      1              0      -1   \n",
       "\n",
       "         scorg96  scorgsc     hsleep  gsleep  \n",
       "idauniq                                       \n",
       "100012         0        0   7.666667       2  \n",
       "100023         1        0  10.000000       1  \n",
       "100025        -1       -1   0.000000       3  \n",
       "100026         1        0   7.416667       2  \n",
       "100029        -1       -1   0.000000       3  \n",
       "\n",
       "[5 rows x 54 columns]"
      ]
     },
     "execution_count": 11,
     "metadata": {},
     "output_type": "execute_result"
    }
   ],
   "source": [
    "data_isolation.head()"
   ]
  },
  {
   "cell_type": "markdown",
   "id": "c79e6647-fb29-4572-b745-0a5118871119",
   "metadata": {
    "jp-MarkdownHeadingCollapsed": true,
    "tags": []
   },
   "source": [
    "# Physical Activity"
   ]
  },
  {
   "cell_type": "code",
   "execution_count": 12,
   "id": "8d2bfa2b-b99d-4946-b4e7-631c34c7e55b",
   "metadata": {},
   "outputs": [],
   "source": [
    "pa=['heacta','heactb','heactc']\n",
    "data_isolation = data_isolation[(data_isolation[pa] > 0).all(axis=1)].copy()"
   ]
  },
  {
   "cell_type": "code",
   "execution_count": 13,
   "id": "99e801a8-f6af-4ffc-9ea3-126ddeaed067",
   "metadata": {},
   "outputs": [],
   "source": [
    "def group_pa(row): \n",
    "  \"\"\"\n",
    "    Physical activity was further categorized into three groups: \n",
    "        -3: None (no moderate or vigorous activity on a weekly basis)\n",
    "        -2: Moderate activity at least once a week\n",
    "        -1: Vigorous activity at least once a week\n",
    "    Raises:\n",
    "        ValueError: If none of the specified columns exist in the file.\n",
    "  \"\"\"    \n",
    "  if row['heacta'] <= 2:\n",
    "    return 1\n",
    "  elif row['heactb'] <= 2:\n",
    "    return 2\n",
    "  else:\n",
    "    return 3"
   ]
  },
  {
   "cell_type": "code",
   "execution_count": 14,
   "id": "d671a704-3663-45f1-bc8d-afc8235ac306",
   "metadata": {},
   "outputs": [],
   "source": [
    "data_isolation['gpa'] = data_isolation.apply(group_pa, axis=1).copy()"
   ]
  },
  {
   "cell_type": "markdown",
   "id": "ff06e08b-87ce-4774-a429-1c5971b238f4",
   "metadata": {
    "tags": []
   },
   "source": [
    "# Self-reported Health"
   ]
  },
  {
   "cell_type": "code",
   "execution_count": 15,
   "id": "052efdd7-727b-4d3c-8600-efa67fc58a8f",
   "metadata": {},
   "outputs": [],
   "source": [
    "health=['hehelf','heill']\n",
    "data_isolation = data_isolation[(data_isolation[health] > 0).all(axis=1)]"
   ]
  },
  {
   "cell_type": "code",
   "execution_count": 16,
   "id": "ac38b6c4-0cc8-4cc7-abee-a9bb019ac311",
   "metadata": {},
   "outputs": [],
   "source": [
    "def group_he(row): \n",
    "  \"\"\"\n",
    "    Self-reported health was further categorized into 2 groups: \n",
    "        -1: good health, comprising those who reported their health as excellent, very good or good\n",
    "        -2: poor health, comprising fair and poor responses\n",
    "  \"\"\"    \n",
    "  if row['hehelf'] <= 3:\n",
    "    return 1\n",
    "  else:\n",
    "    return 2"
   ]
  },
  {
   "cell_type": "code",
   "execution_count": 17,
   "id": "8965b4df-c056-45c3-98b1-8456e910b467",
   "metadata": {},
   "outputs": [],
   "source": [
    "data_isolation['ghealt1'] = data_isolation.apply(group_he, axis=1).copy()\n",
    "data_isolation['ghealt2'] = data_isolation['heill'].replace({1: 2, 2: 1}).copy()"
   ]
  },
  {
   "cell_type": "code",
   "execution_count": 18,
   "id": "4a0c4acf-3266-4a47-809c-fc777320fdfc",
   "metadata": {},
   "outputs": [
    {
     "data": {
      "text/html": [
       "<div>\n",
       "<style scoped>\n",
       "    .dataframe tbody tr th:only-of-type {\n",
       "        vertical-align: middle;\n",
       "    }\n",
       "\n",
       "    .dataframe tbody tr th {\n",
       "        vertical-align: top;\n",
       "    }\n",
       "\n",
       "    .dataframe thead th {\n",
       "        text-align: right;\n",
       "    }\n",
       "</style>\n",
       "<table border=\"1\" class=\"dataframe\">\n",
       "  <thead>\n",
       "    <tr style=\"text-align: right;\">\n",
       "      <th></th>\n",
       "      <th>heactc</th>\n",
       "      <th>scchdh</th>\n",
       "      <th>scchd</th>\n",
       "      <th>scfamx</th>\n",
       "      <th>hefunc</th>\n",
       "      <th>scfamh</th>\n",
       "      <th>scfrdh</th>\n",
       "      <th>scfrdj</th>\n",
       "      <th>scorged</th>\n",
       "      <th>scorgsp</th>\n",
       "      <th>...</th>\n",
       "      <th>sctsyp</th>\n",
       "      <th>sctwum</th>\n",
       "      <th>scchdj</th>\n",
       "      <th>scorg96</th>\n",
       "      <th>scorgsc</th>\n",
       "      <th>hsleep</th>\n",
       "      <th>gsleep</th>\n",
       "      <th>gpa</th>\n",
       "      <th>ghealt1</th>\n",
       "      <th>ghealt2</th>\n",
       "    </tr>\n",
       "    <tr>\n",
       "      <th>idauniq</th>\n",
       "      <th></th>\n",
       "      <th></th>\n",
       "      <th></th>\n",
       "      <th></th>\n",
       "      <th></th>\n",
       "      <th></th>\n",
       "      <th></th>\n",
       "      <th></th>\n",
       "      <th></th>\n",
       "      <th></th>\n",
       "      <th></th>\n",
       "      <th></th>\n",
       "      <th></th>\n",
       "      <th></th>\n",
       "      <th></th>\n",
       "      <th></th>\n",
       "      <th></th>\n",
       "      <th></th>\n",
       "      <th></th>\n",
       "      <th></th>\n",
       "      <th></th>\n",
       "    </tr>\n",
       "  </thead>\n",
       "  <tbody>\n",
       "    <tr>\n",
       "      <th>100012</th>\n",
       "      <td>1</td>\n",
       "      <td>3</td>\n",
       "      <td>1</td>\n",
       "      <td>4</td>\n",
       "      <td>1</td>\n",
       "      <td>4</td>\n",
       "      <td>4</td>\n",
       "      <td>3</td>\n",
       "      <td>0</td>\n",
       "      <td>0</td>\n",
       "      <td>...</td>\n",
       "      <td>PM</td>\n",
       "      <td>30</td>\n",
       "      <td>2</td>\n",
       "      <td>0</td>\n",
       "      <td>0</td>\n",
       "      <td>7.666667</td>\n",
       "      <td>2</td>\n",
       "      <td>1</td>\n",
       "      <td>1</td>\n",
       "      <td>1</td>\n",
       "    </tr>\n",
       "    <tr>\n",
       "      <th>100023</th>\n",
       "      <td>1</td>\n",
       "      <td>1</td>\n",
       "      <td>1</td>\n",
       "      <td>3</td>\n",
       "      <td>1</td>\n",
       "      <td>1</td>\n",
       "      <td>3</td>\n",
       "      <td>6</td>\n",
       "      <td>0</td>\n",
       "      <td>0</td>\n",
       "      <td>...</td>\n",
       "      <td>PM</td>\n",
       "      <td>30</td>\n",
       "      <td>6</td>\n",
       "      <td>1</td>\n",
       "      <td>0</td>\n",
       "      <td>10.000000</td>\n",
       "      <td>1</td>\n",
       "      <td>2</td>\n",
       "      <td>1</td>\n",
       "      <td>1</td>\n",
       "    </tr>\n",
       "    <tr>\n",
       "      <th>100025</th>\n",
       "      <td>1</td>\n",
       "      <td>-1</td>\n",
       "      <td>-1</td>\n",
       "      <td>-1</td>\n",
       "      <td>1</td>\n",
       "      <td>-1</td>\n",
       "      <td>-1</td>\n",
       "      <td>-1</td>\n",
       "      <td>-1</td>\n",
       "      <td>-1</td>\n",
       "      <td>...</td>\n",
       "      <td></td>\n",
       "      <td>0</td>\n",
       "      <td>-1</td>\n",
       "      <td>-1</td>\n",
       "      <td>-1</td>\n",
       "      <td>0.000000</td>\n",
       "      <td>3</td>\n",
       "      <td>1</td>\n",
       "      <td>1</td>\n",
       "      <td>1</td>\n",
       "    </tr>\n",
       "    <tr>\n",
       "      <th>100026</th>\n",
       "      <td>4</td>\n",
       "      <td>-1</td>\n",
       "      <td>2</td>\n",
       "      <td>3</td>\n",
       "      <td>2</td>\n",
       "      <td>2</td>\n",
       "      <td>2</td>\n",
       "      <td>3</td>\n",
       "      <td>0</td>\n",
       "      <td>0</td>\n",
       "      <td>...</td>\n",
       "      <td>AM</td>\n",
       "      <td>30</td>\n",
       "      <td>-1</td>\n",
       "      <td>1</td>\n",
       "      <td>0</td>\n",
       "      <td>7.416667</td>\n",
       "      <td>2</td>\n",
       "      <td>3</td>\n",
       "      <td>2</td>\n",
       "      <td>2</td>\n",
       "    </tr>\n",
       "    <tr>\n",
       "      <th>100029</th>\n",
       "      <td>1</td>\n",
       "      <td>-1</td>\n",
       "      <td>-1</td>\n",
       "      <td>-1</td>\n",
       "      <td>3</td>\n",
       "      <td>-1</td>\n",
       "      <td>-1</td>\n",
       "      <td>-1</td>\n",
       "      <td>-1</td>\n",
       "      <td>-1</td>\n",
       "      <td>...</td>\n",
       "      <td></td>\n",
       "      <td>0</td>\n",
       "      <td>-1</td>\n",
       "      <td>-1</td>\n",
       "      <td>-1</td>\n",
       "      <td>0.000000</td>\n",
       "      <td>3</td>\n",
       "      <td>2</td>\n",
       "      <td>2</td>\n",
       "      <td>2</td>\n",
       "    </tr>\n",
       "    <tr>\n",
       "      <th>100039</th>\n",
       "      <td>2</td>\n",
       "      <td>4</td>\n",
       "      <td>1</td>\n",
       "      <td>2</td>\n",
       "      <td>2</td>\n",
       "      <td>3</td>\n",
       "      <td>3</td>\n",
       "      <td>6</td>\n",
       "      <td>0</td>\n",
       "      <td>0</td>\n",
       "      <td>...</td>\n",
       "      <td>AM</td>\n",
       "      <td>30</td>\n",
       "      <td>3</td>\n",
       "      <td>1</td>\n",
       "      <td>0</td>\n",
       "      <td>6.500000</td>\n",
       "      <td>2</td>\n",
       "      <td>2</td>\n",
       "      <td>2</td>\n",
       "      <td>2</td>\n",
       "    </tr>\n",
       "    <tr>\n",
       "      <th>100048</th>\n",
       "      <td>2</td>\n",
       "      <td>1</td>\n",
       "      <td>1</td>\n",
       "      <td>4</td>\n",
       "      <td>1</td>\n",
       "      <td>2</td>\n",
       "      <td>3</td>\n",
       "      <td>6</td>\n",
       "      <td>0</td>\n",
       "      <td>0</td>\n",
       "      <td>...</td>\n",
       "      <td>PM</td>\n",
       "      <td>45</td>\n",
       "      <td>6</td>\n",
       "      <td>1</td>\n",
       "      <td>0</td>\n",
       "      <td>8.250000</td>\n",
       "      <td>1</td>\n",
       "      <td>3</td>\n",
       "      <td>1</td>\n",
       "      <td>1</td>\n",
       "    </tr>\n",
       "    <tr>\n",
       "      <th>100054</th>\n",
       "      <td>1</td>\n",
       "      <td>-1</td>\n",
       "      <td>-1</td>\n",
       "      <td>-1</td>\n",
       "      <td>1</td>\n",
       "      <td>-1</td>\n",
       "      <td>-1</td>\n",
       "      <td>-1</td>\n",
       "      <td>-1</td>\n",
       "      <td>-1</td>\n",
       "      <td>...</td>\n",
       "      <td></td>\n",
       "      <td>0</td>\n",
       "      <td>-1</td>\n",
       "      <td>-1</td>\n",
       "      <td>-1</td>\n",
       "      <td>0.000000</td>\n",
       "      <td>3</td>\n",
       "      <td>2</td>\n",
       "      <td>2</td>\n",
       "      <td>1</td>\n",
       "    </tr>\n",
       "    <tr>\n",
       "      <th>100063</th>\n",
       "      <td>1</td>\n",
       "      <td>3</td>\n",
       "      <td>1</td>\n",
       "      <td>4</td>\n",
       "      <td>1</td>\n",
       "      <td>4</td>\n",
       "      <td>3</td>\n",
       "      <td>3</td>\n",
       "      <td>0</td>\n",
       "      <td>0</td>\n",
       "      <td>...</td>\n",
       "      <td>PM</td>\n",
       "      <td>30</td>\n",
       "      <td>6</td>\n",
       "      <td>0</td>\n",
       "      <td>0</td>\n",
       "      <td>7.000000</td>\n",
       "      <td>2</td>\n",
       "      <td>1</td>\n",
       "      <td>1</td>\n",
       "      <td>1</td>\n",
       "    </tr>\n",
       "    <tr>\n",
       "      <th>100071</th>\n",
       "      <td>1</td>\n",
       "      <td>2</td>\n",
       "      <td>1</td>\n",
       "      <td>3</td>\n",
       "      <td>1</td>\n",
       "      <td>2</td>\n",
       "      <td>2</td>\n",
       "      <td>2</td>\n",
       "      <td>0</td>\n",
       "      <td>0</td>\n",
       "      <td>...</td>\n",
       "      <td>PM</td>\n",
       "      <td>30</td>\n",
       "      <td>2</td>\n",
       "      <td>1</td>\n",
       "      <td>0</td>\n",
       "      <td>9.250000</td>\n",
       "      <td>1</td>\n",
       "      <td>1</td>\n",
       "      <td>1</td>\n",
       "      <td>1</td>\n",
       "    </tr>\n",
       "  </tbody>\n",
       "</table>\n",
       "<p>10 rows × 57 columns</p>\n",
       "</div>"
      ],
      "text/plain": [
       "         heactc  scchdh  scchd  scfamx  hefunc  scfamh  scfrdh  scfrdj  \\\n",
       "idauniq                                                                  \n",
       "100012        1       3      1       4       1       4       4       3   \n",
       "100023        1       1      1       3       1       1       3       6   \n",
       "100025        1      -1     -1      -1       1      -1      -1      -1   \n",
       "100026        4      -1      2       3       2       2       2       3   \n",
       "100029        1      -1     -1      -1       3      -1      -1      -1   \n",
       "100039        2       4      1       2       2       3       3       6   \n",
       "100048        2       1      1       4       1       2       3       6   \n",
       "100054        1      -1     -1      -1       1      -1      -1      -1   \n",
       "100063        1       3      1       4       1       4       3       3   \n",
       "100071        1       2      1       3       1       2       2       2   \n",
       "\n",
       "         scorged  scorgsp  ...  sctsyp  sctwum  scchdj  scorg96 scorgsc  \\\n",
       "idauniq                    ...                                            \n",
       "100012         0        0  ...      PM      30       2        0       0   \n",
       "100023         0        0  ...      PM      30       6        1       0   \n",
       "100025        -1       -1  ...               0      -1       -1      -1   \n",
       "100026         0        0  ...      AM      30      -1        1       0   \n",
       "100029        -1       -1  ...               0      -1       -1      -1   \n",
       "100039         0        0  ...      AM      30       3        1       0   \n",
       "100048         0        0  ...      PM      45       6        1       0   \n",
       "100054        -1       -1  ...               0      -1       -1      -1   \n",
       "100063         0        0  ...      PM      30       6        0       0   \n",
       "100071         0        0  ...      PM      30       2        1       0   \n",
       "\n",
       "            hsleep  gsleep  gpa  ghealt1  ghealt2  \n",
       "idauniq                                            \n",
       "100012    7.666667       2    1        1        1  \n",
       "100023   10.000000       1    2        1        1  \n",
       "100025    0.000000       3    1        1        1  \n",
       "100026    7.416667       2    3        2        2  \n",
       "100029    0.000000       3    2        2        2  \n",
       "100039    6.500000       2    2        2        2  \n",
       "100048    8.250000       1    3        1        1  \n",
       "100054    0.000000       3    2        2        1  \n",
       "100063    7.000000       2    1        1        1  \n",
       "100071    9.250000       1    1        1        1  \n",
       "\n",
       "[10 rows x 57 columns]"
      ]
     },
     "execution_count": 18,
     "metadata": {},
     "output_type": "execute_result"
    }
   ],
   "source": [
    "data_isolation.head(10)"
   ]
  },
  {
   "cell_type": "markdown",
   "id": "ab2eebd5-7faf-4337-8343-26911fb1d1be",
   "metadata": {
    "jp-MarkdownHeadingCollapsed": true,
    "tags": []
   },
   "source": [
    "# Eyesight"
   ]
  },
  {
   "cell_type": "code",
   "execution_count": 19,
   "id": "bd250908-c805-47bd-85a9-bece0ad3a839",
   "metadata": {},
   "outputs": [
    {
     "data": {
      "text/plain": [
       "'\\n    The value 6 is low number so it will changed to 5\\n'"
      ]
     },
     "execution_count": 19,
     "metadata": {},
     "output_type": "execute_result"
    }
   ],
   "source": [
    "data_isolation = data_isolation[(data_isolation[['heeye']] > 0).all(axis=1)]\n",
    "data_isolation['heeye'] = data_isolation['heeye'].replace(6, 5).copy()\n",
    "'''\n",
    "    The value 6 is low number so it will changed to 5\n",
    "'''"
   ]
  },
  {
   "cell_type": "code",
   "execution_count": 20,
   "id": "72268891-bcae-44b1-ba38-516aefa7eb22",
   "metadata": {},
   "outputs": [],
   "source": [
    "def group_eye(row): \n",
    "  \"\"\"\n",
    "    Eyesight was further categorized into three groups: \n",
    "        -1: Optimal(Excellent and Very good)\n",
    "        -2: Good\n",
    "        -3: Poor(Fair or Poor)\n",
    "  \"\"\"    \n",
    "  if row['heeye'] <= 2:\n",
    "    return 1\n",
    "  elif row['heeye'] == 3:\n",
    "    return 2\n",
    "  else:\n",
    "    return 3"
   ]
  },
  {
   "cell_type": "code",
   "execution_count": 21,
   "id": "cbcf187c-feba-4fb7-afea-5795b43de1f5",
   "metadata": {},
   "outputs": [],
   "source": [
    "data_isolation['geye'] = data_isolation.apply(group_eye, axis=1).copy()"
   ]
  },
  {
   "cell_type": "markdown",
   "id": "59559473-3580-479c-913f-1e68e15515e6",
   "metadata": {
    "jp-MarkdownHeadingCollapsed": true,
    "tags": []
   },
   "source": [
    "# Hearing"
   ]
  },
  {
   "cell_type": "code",
   "execution_count": 22,
   "id": "497e2817-e93c-4098-bc99-dafb946eada7",
   "metadata": {},
   "outputs": [
    {
     "data": {
      "text/plain": [
       "'\\n    The value 6 is low number so it will changed to 5\\n'"
      ]
     },
     "execution_count": 22,
     "metadata": {},
     "output_type": "execute_result"
    }
   ],
   "source": [
    "data_isolation = data_isolation[(data_isolation[['hehear']] > 0).all(axis=1)]\n",
    "data_isolation['hehear'] = data_isolation['hehear'].replace(6, 5).copy()\n",
    "'''\n",
    "    The value 6 is low number so it will changed to 5\n",
    "'''"
   ]
  },
  {
   "cell_type": "code",
   "execution_count": 23,
   "id": "dfc209d7-12aa-49b1-9b1e-f1b759136cf4",
   "metadata": {},
   "outputs": [],
   "source": [
    "def group_hear(row): \n",
    "  \"\"\"\n",
    "    Hearing was further categorized into three groups: \n",
    "        -1: Optimal(Excellent and Very good)\n",
    "        -2: Good\n",
    "        -3: Poor(Fair or Poor)\n",
    "  \"\"\"    \n",
    "  if row['hehear'] <= 2:\n",
    "    return 1\n",
    "  elif row['hehear'] == 3:\n",
    "    return 2\n",
    "  else:\n",
    "    return 3"
   ]
  },
  {
   "cell_type": "code",
   "execution_count": 24,
   "id": "3c62b52d-4d21-46cc-801a-3f1d39515122",
   "metadata": {},
   "outputs": [],
   "source": [
    "data_isolation['ghear'] = data_isolation.apply(group_hear, axis=1).copy()"
   ]
  },
  {
   "cell_type": "markdown",
   "id": "dfb29c3a-6d3b-477b-96bc-5f6e813e0b16",
   "metadata": {
    "jp-MarkdownHeadingCollapsed": true,
    "tags": []
   },
   "source": [
    "# Difficulty walking"
   ]
  },
  {
   "cell_type": "code",
   "execution_count": 25,
   "id": "acf9a363-bf89-4a02-bc83-f548ad5a6cf8",
   "metadata": {},
   "outputs": [
    {
     "data": {
      "text/plain": [
       "'\\n    The value 4 is low number so it will changed to 3\\n'"
      ]
     },
     "execution_count": 25,
     "metadata": {},
     "output_type": "execute_result"
    }
   ],
   "source": [
    "data_isolation = data_isolation[(data_isolation[['hefunc']] > 0).all(axis=1)]\n",
    "data_isolation['hefunc'] = data_isolation['hefunc'].replace(4, 3).copy()\n",
    "'''\n",
    "    The value 4 is low number so it will changed to 3\n",
    "'''"
   ]
  },
  {
   "cell_type": "code",
   "execution_count": 26,
   "id": "0792ffb9-5740-4313-9df4-7280ed71d2a5",
   "metadata": {},
   "outputs": [],
   "source": [
    "'''\n",
    "    Difficulty walking was further categorized into three groups: \n",
    "    1: no difficulty\n",
    "    2: some difficulty\n",
    "    3: much difficulty\n",
    "'''\n",
    "data_isolation['gwdif'] = data_isolation['hefunc'].copy()"
   ]
  },
  {
   "cell_type": "markdown",
   "id": "d103f04f-fb53-4ebb-a756-3129c9cacbc5",
   "metadata": {
    "tags": []
   },
   "source": [
    "# Weight"
   ]
  },
  {
   "cell_type": "code",
   "execution_count": 27,
   "id": "50c5d571-6ffa-4f25-90e2-150a9fd1332b",
   "metadata": {},
   "outputs": [],
   "source": [
    "data_isolation = data_isolation[(data_isolation[['heswgh']] > 0).all(axis=1)]"
   ]
  },
  {
   "cell_type": "code",
   "execution_count": 28,
   "id": "417df2ed-e588-4541-8eca-225a9c1729d6",
   "metadata": {},
   "outputs": [],
   "source": [
    "'''\n",
    "    Weight was further categorized into three groups: \n",
    "    1: light\n",
    "    2: right\n",
    "    3: heavy\n",
    "'''\n",
    "data_isolation['gwg'] = data_isolation['heswgh'].replace({1: 2, 2: 3, 3: 1}).copy()"
   ]
  },
  {
   "cell_type": "markdown",
   "id": "201eb9fa-5088-4ecd-91a7-062fd9eeaeda",
   "metadata": {
    "tags": []
   },
   "source": [
    "# Social Participation"
   ]
  },
  {
   "cell_type": "code",
   "execution_count": 29,
   "id": "9a416f3c-bf71-4f09-97f3-1aa043b4c659",
   "metadata": {},
   "outputs": [],
   "source": [
    "spart=['spcar','spcara','sptraa']\n",
    "data_isolation[['spcara']] = data_isolation[['spcara']].replace(-1, 0).copy()\n",
    "data_isolation = data_isolation[(data_isolation[spart] >= 0).all(axis=1)]"
   ]
  },
  {
   "cell_type": "markdown",
   "id": "1846157d-999b-424d-b100-d7913007fdf5",
   "metadata": {
    "tags": []
   },
   "source": [
    "# Children Interaction"
   ]
  },
  {
   "cell_type": "code",
   "execution_count": 30,
   "id": "85184b48-45d6-4a13-b11a-6db6c3169389",
   "metadata": {},
   "outputs": [],
   "source": [
    "ch=['scchd','scchdg','scchdh','scchdj','scchdk']\n",
    "data_isolation = data_isolation[(data_isolation[['scchd']] > 0).all(axis=1)]\n",
    "'''\n",
    "'scchdg','scchdh','scchdj','scchdk': assign 6 all values -1 that means it don't has children\n",
    "'''\n",
    "data_isolation[ch] = data_isolation[ch].replace(-1, 6).copy()\n",
    "data_isolation = data_isolation[(data_isolation[ch] > 0).all(axis=1)]"
   ]
  },
  {
   "cell_type": "markdown",
   "id": "8eefcdb9-2b00-4c85-a613-633fe5d72064",
   "metadata": {
    "tags": []
   },
   "source": [
    "# Other family interaction"
   ]
  },
  {
   "cell_type": "code",
   "execution_count": 31,
   "id": "ec4de979-131d-4509-83a9-293f58b12616",
   "metadata": {},
   "outputs": [],
   "source": [
    "of = ['scfam','scfamg','scfamh','scfamj','scfamk']\n",
    "'''\n",
    "'scfamg','scfamh','scfamj','scfamk': assign 6 all values -1 that means it don't has other family\n",
    "'''\n",
    "data_isolation[of] = data_isolation[of].replace(-1, 6).copy()\n",
    "data_isolation = data_isolation[(data_isolation[of] > 0).all(axis=1)]"
   ]
  },
  {
   "cell_type": "markdown",
   "id": "484eec7f-8443-40dd-81bc-ac23a6f57196",
   "metadata": {
    "tags": []
   },
   "source": [
    "# Friend Interaction"
   ]
  },
  {
   "cell_type": "code",
   "execution_count": 32,
   "id": "473125ac-f450-4795-8708-294ab89b8d07",
   "metadata": {},
   "outputs": [],
   "source": [
    "fr = ['scfrd','scfrdg','scfrdh','scfrdj','scfrdk']\n",
    "'''\n",
    "'scfrdg','scfrdh','scfrdj','scfrdk': assign 6 all values -1 that means it don't has friend\n",
    "'''\n",
    "data_isolation[fr] = data_isolation[fr].replace(-1, 6).copy()\n",
    "data_isolation = data_isolation[(data_isolation[fr] > 0).all(axis=1)]"
   ]
  },
  {
   "cell_type": "markdown",
   "id": "88783ef4-003f-42da-adc8-7a2c0600a226",
   "metadata": {},
   "source": [
    "# Isolation level"
   ]
  },
  {
   "cell_type": "code",
   "execution_count": 33,
   "id": "c26e390c-2f95-4517-9059-683946a50dac",
   "metadata": {},
   "outputs": [],
   "source": [
    "data_isolation=level_isolation(data_isolation).copy()"
   ]
  },
  {
   "cell_type": "markdown",
   "id": "55e2a347-0d72-408c-95ca-932eaaa86c7e",
   "metadata": {
    "tags": []
   },
   "source": [
    "# Characteristics that influence the level of social isolation:\n",
    "\n",
    "## Sleep,physical activity,health,difficulty walking,eyesight,hearing,weight,social participation,partner interaction,children interaction,other family interaction,friend interaction"
   ]
  },
  {
   "cell_type": "code",
   "execution_count": 49,
   "id": "611a38b4-7281-405f-818e-56c1e73f04ab",
   "metadata": {},
   "outputs": [
    {
     "name": "stdout",
     "output_type": "stream",
     "text": [
      "Error cuadrático medio (MSE): 0.20980707387352007\n",
      "R-cuadrado (R^2): 0.805494228585398\n"
     ]
    }
   ],
   "source": [
    "features_isolation=spart+ch+of+fr+['scprt','scorg96','gsleep','gpa','ghealt1','ghealt2','geye','ghear','gwdif','gwg']\n",
    "X = data_isolation[features_isolation]\n",
    "y = data_isolation['level_social_isolation']\n",
    "\n",
    "model = joblib.load('data/models/modelo_mlp.pkl')\n",
    "scaler = joblib.load('data/models/scaler_mlp.pkl')\n",
    "\n",
    "X_scaled = scaler.transform(X)\n",
    "y_pred = model.predict(X_scaled)\n",
    "\n",
    "mse = mean_squared_error(y, y_pred)\n",
    "r2 = r2_score(y, y_pred)\n",
    "\n",
    "print(f\"Error cuadrático medio (MSE): {mse}\")\n",
    "print(f\"R-cuadrado (R^2): {r2}\")"
   ]
  },
  {
   "cell_type": "code",
   "execution_count": 46,
   "id": "5e069f0c-20ee-4c15-a694-fd6001d9af5b",
   "metadata": {},
   "outputs": [
    {
     "data": {
      "image/png": "[encoded data removed]",
      "text/plain": [
       "<Figure size 576x432 with 1 Axes>"
      ]
     },
     "metadata": {
      "needs_background": "light"
     },
     "output_type": "display_data"
    }
   ],
   "source": [
    "import matplotlib.pyplot as plt\n",
    "\n",
    "plt.figure(figsize=(8, 6))\n",
    "\n",
    "plt.scatter(y, y_pred, color='blue', alpha=0.6)\n",
    "\n",
    "plt.plot([min(y), max(y)], [min(y), max(y)], color='red', linestyle='--')\n",
    "\n",
    "plt.title('Valores Reales vs Predicciones')\n",
    "plt.xlabel('Valores Reales')\n",
    "plt.ylabel('Predicciones')\n",
    "plt.grid(True)\n",
    "plt.show()"
   ]
  },
  {
   "cell_type": "code",
   "execution_count": 50,
   "id": "dd2b967b-12fe-46c9-9d37-9d474fc3bd05",
   "metadata": {},
   "outputs": [
    {
     "name": "stdout",
     "output_type": "stream",
     "text": [
      "Error cuadrático medio (MSE): 0.20931852854554933\n",
      "R-cuadrado (R^2): 0.8059471441336374\n"
     ]
    }
   ],
   "source": [
    "model = joblib.load('data/models/modelo_vt.pkl')\n",
    "scaler = joblib.load('data/models/scaler_vt.pkl')\n",
    "\n",
    "X_scaled = scaler.transform(X)\n",
    "y_pred2 = model.predict(X_scaled)\n",
    "\n",
    "mse = mean_squared_error(y, y_pred2)\n",
    "r2 = r2_score(y, y_pred2)\n",
    "\n",
    "print(f\"Error cuadrático medio (MSE): {mse}\")\n",
    "print(f\"R-cuadrado (R^2): {r2}\")"
   ]
  },
  {
   "cell_type": "code",
   "execution_count": 51,
   "id": "ad3ec8fe-583c-4b5f-ae08-187dda33b80a",
   "metadata": {},
   "outputs": [
    {
     "data": {
      "image/png": "[encoded data removed]",
      "text/plain": [
       "<Figure size 576x432 with 1 Axes>"
      ]
     },
     "metadata": {
      "needs_background": "light"
     },
     "output_type": "display_data"
    }
   ],
   "source": [
    "import matplotlib.pyplot as plt\n",
    "\n",
    "plt.figure(figsize=(8, 6))\n",
    "plt.scatter(y, y_pred2, color='blue', alpha=0.6)\n",
    "plt.plot([min(y), max(y)], [min(y), max(y)], color='red', linestyle='--')\n",
    "\n",
    "plt.title('Valores Reales vs Predicciones')\n",
    "plt.xlabel('Valores Reales')\n",
    "plt.ylabel('Predicciones')\n",
    "plt.grid(True)\n",
    "plt.show()"
   ]
  },
  {
   "cell_type": "code",
   "execution_count": 67,
   "id": "2982d891-e223-43ed-b6fe-22bdc9317dc1",
   "metadata": {},
   "outputs": [
    {
     "name": "stdout",
     "output_type": "stream",
     "text": [
      "              precision    recall  f1-score   support\n",
      "\n",
      "           0       0.95      0.85      0.90      1650\n",
      "           1       0.84      0.80      0.82      1871\n",
      "           2       0.74      0.79      0.76      1139\n",
      "           3       0.61      0.67      0.64       435\n",
      "           4       0.42      0.84      0.56       109\n",
      "           5       0.50      1.00      0.67        14\n",
      "\n",
      "    accuracy                           0.81      5218\n",
      "   macro avg       0.68      0.83      0.73      5218\n",
      "weighted avg       0.82      0.81      0.81      5218\n",
      "\n"
     ]
    }
   ],
   "source": [
    "from sklearn.metrics import classification_report\n",
    "\n",
    "model = joblib.load('data/models/mlp_cl.pkl')\n",
    "scaler = joblib.load('data/models/scalermlp_cl.pkl')\n",
    "\n",
    "X_scaled = scaler.transform(X)\n",
    "y_mlp = model.predict(X_scaled)\n",
    "\n",
    "data_isolation['predict_social_isolation']=y_mlp\n",
    "print(classification_report(y, y_mlp))"
   ]
  },
  {
   "cell_type": "code",
   "execution_count": 62,
   "id": "350bab83-410e-454e-874b-8d6aecb05ce1",
   "metadata": {},
   "outputs": [
    {
     "data": {
      "image/png": "[encoded data removed]",
      "text/plain": [
       "<Figure size 576x432 with 1 Axes>"
      ]
     },
     "metadata": {
      "needs_background": "light"
     },
     "output_type": "display_data"
    }
   ],
   "source": [
    "import matplotlib.pyplot as plt\n",
    "import seaborn as sns\n",
    "from sklearn.metrics import confusion_matrix\n",
    "\n",
    "cm = confusion_matrix(y, y_mlp)\n",
    "\n",
    "plt.figure(figsize=(8, 6))\n",
    "sns.heatmap(cm, annot=True, fmt=\"d\", cmap=\"viridis\", cbar=False, xticklabels=True, yticklabels=True)\n",
    "plt.title(\"Confusion Matrix\")\n",
    "plt.xlabel(\"Predictions\")\n",
    "plt.ylabel(\"Real\")\n",
    "plt.show()"
   ]
  },
  {
   "cell_type": "code",
   "execution_count": 64,
   "id": "e013890f-fd51-40ca-a996-3efac905fb27",
   "metadata": {},
   "outputs": [
    {
     "name": "stdout",
     "output_type": "stream",
     "text": [
      "              precision    recall  f1-score   support\n",
      "\n",
      "           0       0.93      0.90      0.91      1650\n",
      "           1       0.83      0.91      0.87      1871\n",
      "           2       0.79      0.81      0.80      1139\n",
      "           3       0.74      0.47      0.57       435\n",
      "           4       0.52      0.47      0.49       109\n",
      "           5       0.67      0.29      0.40        14\n",
      "\n",
      "    accuracy                           0.84      5218\n",
      "   macro avg       0.74      0.64      0.67      5218\n",
      "weighted avg       0.84      0.84      0.83      5218\n",
      "\n"
     ]
    }
   ],
   "source": [
    "from sklearn.metrics import classification_report\n",
    "\n",
    "model = joblib.load('data/models/voting_clf.pkl')\n",
    "scaler = joblib.load('data/models/scaler_voting_clf.pkl')\n",
    "\n",
    "X_scaled = scaler.transform(X)\n",
    "y_vcl = model.predict(X_scaled)\n",
    "\n",
    "print(classification_report(y, y_vcl))"
   ]
  },
  {
   "cell_type": "code",
   "execution_count": 65,
   "id": "2c3e88d1-d2ef-41ca-b2b4-ac21777f877c",
   "metadata": {},
   "outputs": [
    {
     "data": {
      "image/png": "[encoded data removed]",
      "text/plain": [
       "<Figure size 576x432 with 1 Axes>"
      ]
     },
     "metadata": {
      "needs_background": "light"
     },
     "output_type": "display_data"
    }
   ],
   "source": [
    "import matplotlib.pyplot as plt\n",
    "import seaborn as sns\n",
    "from sklearn.metrics import confusion_matrix\n",
    "\n",
    "cm = confusion_matrix(y, y_vcl)\n",
    "\n",
    "plt.figure(figsize=(8, 6))\n",
    "sns.heatmap(cm, annot=True, fmt=\"d\", cmap=\"viridis\", cbar=False, xticklabels=True, yticklabels=True)\n",
    "plt.title(\"Confusion Matrix\")\n",
    "plt.xlabel(\"Predictions\")\n",
    "plt.ylabel(\"Real\")\n",
    "plt.show()"
   ]
  },
  {
   "cell_type": "code",
   "execution_count": null,
   "id": "4c506b7b-ceb6-4ee1-9148-98ca9ca99eea",
   "metadata": {},
   "outputs": [],
   "source": []
  }
 ],
 "metadata": {
  "kernelspec": {
   "display_name": "Python 3 (ipykernel)",
   "language": "python",
   "name": "python3"
  },
  "language_info": {
   "codemirror_mode": {
    "name": "ipython",
    "version": 3
   },
   "file_extension": ".py",
   "mimetype": "text/x-python",
   "name": "python",
   "nbconvert_exporter": "python",
   "pygments_lexer": "ipython3",
   "version": "3.9.7"
  }
 },
 "nbformat": 4,
 "nbformat_minor": 5
}
